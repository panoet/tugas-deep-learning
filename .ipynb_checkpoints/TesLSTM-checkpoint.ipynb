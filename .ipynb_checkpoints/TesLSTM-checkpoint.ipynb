{
 "cells": [
  {
   "cell_type": "code",
   "execution_count": 1,
   "id": "cae044f0",
   "metadata": {},
   "outputs": [],
   "source": [
    "# Importing library\n",
    "import numpy as np\n",
    "import matplotlib.pyplot as plt\n",
    "import pandas as pd"
   ]
  },
  {
   "cell_type": "code",
   "execution_count": 2,
   "id": "7cc38867",
   "metadata": {},
   "outputs": [],
   "source": [
    "# Importing training set\n",
    "dataset_train = pd.read_csv('Google_Stock_Price_Train.csv')\n",
    "training_set = dataset_train.iloc[:, 1:2].values"
   ]
  },
  {
   "cell_type": "code",
   "execution_count": 3,
   "id": "179a6711",
   "metadata": {},
   "outputs": [],
   "source": [
    "# feature scaling\n",
    "from sklearn.preprocessing import MinMaxScaler\n",
    "sc = MinMaxScaler(feature_range = (0,1))\n",
    "training_set_scaled = sc.fit_transform(training_set)"
   ]
  },
  {
   "cell_type": "code",
   "execution_count": 4,
   "id": "91145473",
   "metadata": {},
   "outputs": [],
   "source": [
    "# Creating a data scructure with 60 timesteps and 1 output\n",
    "X_train = []\n",
    "Y_train = []\n",
    "for i in range (60, 1258):\n",
    "    X_train.append(training_set_scaled[i-60:i, 0])\n",
    "    Y_train.append(training_set_scaled[i, 0])\n",
    "X_train, Y_train = np.array(X_train), np.array(Y_train)\n",
    "\n",
    "# Reshaping\n",
    "X_train = np.reshape(X_train, (X_train.shape[0], X_train.shape[1], 1))"
   ]
  },
  {
   "cell_type": "code",
   "execution_count": 5,
   "id": "e299e71e-fb9c-4b56-ad7d-ac77d668654d",
   "metadata": {},
   "outputs": [],
   "source": [
    "# Importing KERAS\n",
    "from keras.models import Sequential\n",
    "from keras.layers import Dense\n",
    "from keras.layers import LSTM\n",
    "from keras.layers import Dropout"
   ]
  },
  {
   "cell_type": "code",
   "execution_count": 6,
   "id": "3bc8fc94-ed91-4e6c-bc52-971df3047159",
   "metadata": {},
   "outputs": [],
   "source": [
    "# Initializing the RNN\n",
    "regressor = Sequential()\n",
    "\n",
    "# Adding the first LSTM layer and some dropout regularization\n",
    "regressor.add(LSTM(units=50, return_sequences=True, input_shape=(X_train.shape[1], 1)))\n",
    "regressor.add(Dropout(0.2))"
   ]
  },
  {
   "cell_type": "code",
   "execution_count": 7,
   "id": "e2b3f58d-3d60-4241-bb96-20cfeecf9711",
   "metadata": {},
   "outputs": [],
   "source": [
    "# Adding second LSTM layer and some another dropout regularization\n",
    "regressor.add(LSTM(units=50, return_sequences=True))\n",
    "regressor.add(Dropout(0.2))"
   ]
  },
  {
   "cell_type": "code",
   "execution_count": 8,
   "id": "df10f39e-6353-4afa-abcf-ecb6abf6380a",
   "metadata": {},
   "outputs": [],
   "source": [
    "# Adding third LSTM layer and some another dropout regularization\n",
    "regressor.add(LSTM(units=50, return_sequences=True))\n",
    "regressor.add(Dropout(0.2))"
   ]
  },
  {
   "cell_type": "code",
   "execution_count": 9,
   "id": "0cd4d130-9044-4a4b-a0a0-6c2f7ecbc983",
   "metadata": {},
   "outputs": [],
   "source": [
    "# Adding fourth LSTM layer and some another dropout regularization\n",
    "regressor.add(LSTM(units=50))\n",
    "regressor.add(Dropout(0.2))"
   ]
  },
  {
   "cell_type": "code",
   "execution_count": 10,
   "id": "8181cb0e-a3db-4031-9478-7ce17cdb5c37",
   "metadata": {},
   "outputs": [],
   "source": [
    "# Adding output layer\n",
    "regressor.add(Dense(units=1))"
   ]
  },
  {
   "cell_type": "code",
   "execution_count": 11,
   "id": "f1cffbc7-3422-405f-856b-6fa47cb0bfb2",
   "metadata": {},
   "outputs": [],
   "source": [
    "# Compiling\n",
    "regressor.compile(optimizer='adam', loss='mean_squared_error')"
   ]
  },
  {
   "cell_type": "code",
   "execution_count": null,
   "id": "161abb86-0369-4cbd-ac52-1df0770b4a04",
   "metadata": {},
   "outputs": [
    {
     "name": "stdout",
     "output_type": "stream",
     "text": [
      "Epoch 1/20\n",
      "38/38 [==============================] - 12s 112ms/step - loss: 0.0466\n",
      "Epoch 2/20\n",
      "38/38 [==============================] - 5s 120ms/step - loss: 0.0072\n",
      "Epoch 3/20\n",
      "38/38 [==============================] - 4s 117ms/step - loss: 0.0054\n",
      "Epoch 4/20\n",
      "38/38 [==============================] - 4s 112ms/step - loss: 0.0057\n",
      "Epoch 5/20\n",
      "38/38 [==============================] - 5s 123ms/step - loss: 0.0051\n",
      "Epoch 6/20\n",
      "38/38 [==============================] - 5s 119ms/step - loss: 0.0057\n",
      "Epoch 7/20\n",
      "38/38 [==============================] - 5s 122ms/step - loss: 0.0046\n",
      "Epoch 8/20\n",
      "38/38 [==============================] - 4s 114ms/step - loss: 0.0044\n",
      "Epoch 9/20\n",
      "38/38 [==============================] - 5s 120ms/step - loss: 0.0043\n",
      "Epoch 10/20\n",
      "38/38 [==============================] - 5s 125ms/step - loss: 0.0038\n",
      "Epoch 11/20\n",
      "38/38 [==============================] - 5s 128ms/step - loss: 0.0049\n",
      "Epoch 12/20\n",
      "38/38 [==============================] - 5s 145ms/step - loss: 0.0037\n",
      "Epoch 13/20\n",
      "38/38 [==============================] - 5s 133ms/step - loss: 0.0040\n",
      "Epoch 14/20\n",
      "38/38 [==============================] - 5s 124ms/step - loss: 0.0039\n",
      "Epoch 15/20\n",
      "38/38 [==============================] - 5s 127ms/step - loss: 0.0036\n",
      "Epoch 16/20\n",
      "38/38 [==============================] - 5s 130ms/step - loss: 0.0041\n",
      "Epoch 17/20\n",
      "38/38 [==============================] - 6s 146ms/step - loss: 0.0034\n",
      "Epoch 18/20\n",
      "22/38 [================>.............] - ETA: 2s - loss: 0.0038"
     ]
    }
   ],
   "source": [
    "# fitting the RNN to training set\n",
    "regressor.fit(X_train, Y_train, epochs=20, batch_size=32)"
   ]
  },
  {
   "cell_type": "code",
   "execution_count": 13,
   "id": "4be373ce-333c-4ecb-831e-aaa36ce2702e",
   "metadata": {},
   "outputs": [
    {
     "name": "stderr",
     "output_type": "stream",
     "text": [
      "WARNING:absl:Found untraced functions such as lstm_cell_layer_call_fn, lstm_cell_layer_call_and_return_conditional_losses, lstm_cell_1_layer_call_fn, lstm_cell_1_layer_call_and_return_conditional_losses, lstm_cell_2_layer_call_fn while saving (showing 5 of 8). These functions will not be directly callable after loading.\n"
     ]
    },
    {
     "name": "stdout",
     "output_type": "stream",
     "text": [
      "INFO:tensorflow:Assets written to: models/Epoch150\\assets\n"
     ]
    },
    {
     "name": "stderr",
     "output_type": "stream",
     "text": [
      "INFO:tensorflow:Assets written to: models/Epoch150\\assets\n",
      "WARNING:absl:<keras.layers.recurrent.LSTMCell object at 0x000001DD914080D0> has the same name 'LSTMCell' as a built-in Keras object. Consider renaming <class 'keras.layers.recurrent.LSTMCell'> to avoid naming conflicts when loading with `tf.keras.models.load_model`. If renaming is not possible, pass the object in the `custom_objects` parameter of the load function.\n",
      "WARNING:absl:<keras.layers.recurrent.LSTMCell object at 0x000001DD926A5BE0> has the same name 'LSTMCell' as a built-in Keras object. Consider renaming <class 'keras.layers.recurrent.LSTMCell'> to avoid naming conflicts when loading with `tf.keras.models.load_model`. If renaming is not possible, pass the object in the `custom_objects` parameter of the load function.\n",
      "WARNING:absl:<keras.layers.recurrent.LSTMCell object at 0x000001DD9275C460> has the same name 'LSTMCell' as a built-in Keras object. Consider renaming <class 'keras.layers.recurrent.LSTMCell'> to avoid naming conflicts when loading with `tf.keras.models.load_model`. If renaming is not possible, pass the object in the `custom_objects` parameter of the load function.\n",
      "WARNING:absl:<keras.layers.recurrent.LSTMCell object at 0x000001DD927F9370> has the same name 'LSTMCell' as a built-in Keras object. Consider renaming <class 'keras.layers.recurrent.LSTMCell'> to avoid naming conflicts when loading with `tf.keras.models.load_model`. If renaming is not possible, pass the object in the `custom_objects` parameter of the load function.\n"
     ]
    }
   ],
   "source": [
    "## regressor.save('models/Epoch150')"
   ]
  },
  {
   "cell_type": "code",
   "execution_count": 14,
   "id": "59bffebf-3f93-429c-a825-de569a01349e",
   "metadata": {},
   "outputs": [],
   "source": [
    "# Importing testing set\n",
    "dataset_test = pd.read_csv('Google_Stock_Price_Test.csv')\n",
    "real_stock_set = dataset_test.iloc[:, 1:2].values"
   ]
  },
  {
   "cell_type": "code",
   "execution_count": 15,
   "id": "4b82064c-0467-4ac5-b00d-dda78f80e7dd",
   "metadata": {},
   "outputs": [],
   "source": [
    "# Getting the predicted stock\n",
    "dataset_total = pd.concat((dataset_train['Open'], dataset_test['Open']), axis=0)\n",
    "inputs = dataset_total[len(dataset_total) - len(dataset_test) - 60:].values\n",
    "inputs = inputs.reshape(-1, 1)\n",
    "inputs = sc.transform(inputs)\n",
    "\n",
    "X_test = []\n",
    "for i in range(60, 80):\n",
    "    X_test.append(inputs[i-60:i, 0])\n",
    "X_test = np.array(X_test)\n",
    "X_test = np.reshape(X_test, (X_test.shape[0], X_test.shape[1], 1))\n",
    "\n",
    "predicted_stock_set = regressor.predict(X_test)\n",
    "predicted_stock_set = sc.inverse_transform(predicted_stock_set)"
   ]
  },
  {
   "cell_type": "code",
   "execution_count": 16,
   "id": "2fcde070-de41-4dbb-95b3-cb3b5a5d5ee0",
   "metadata": {},
   "outputs": [
    {
     "data": {
      "image/png": "[encoded data removed]",
      "text/plain": [
       "<Figure size 432x288 with 1 Axes>"
      ]
     },
     "metadata": {
      "needs_background": "light"
     },
     "output_type": "display_data"
    }
   ],
   "source": [
    "# visualizing\n",
    "plt.plot(real_stock_set, color='red', label='Real Google Stock Price')\n",
    "plt.plot(predicted_stock_set, color='blue', label='Predicted Google Stock Price')\n",
    "plt.title('Google Stock LSTM Prediction')\n",
    "plt.xlabel('Time')\n",
    "plt.ylabel('Price')\n",
    "\n",
    "plt.legend()\n",
    "plt.show()"
   ]
  },
  {
   "cell_type": "code",
   "execution_count": null,
   "id": "f132be30-f1bd-494d-b4b2-552c105c5c42",
   "metadata": {},
   "outputs": [],
   "source": []
  }
 ],
 "metadata": {
  "kernelspec": {
   "display_name": "Python 3 (ipykernel)",
   "language": "python",
   "name": "python3"
  },
  "language_info": {
   "codemirror_mode": {
    "name": "ipython",
    "version": 3
   },
   "file_extension": ".py",
   "mimetype": "text/x-python",
   "name": "python",
   "nbconvert_exporter": "python",
   "pygments_lexer": "ipython3",
   "version": "3.9.7"
  }
 },
 "nbformat": 4,
 "nbformat_minor": 5
}
